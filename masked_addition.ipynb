{
  "nbformat": 4,
  "nbformat_minor": 0,
  "metadata": {
    "kernelspec": {
      "display_name": "Python 3",
      "language": "python",
      "name": "python3"
    },
    "language_info": {
      "codemirror_mode": {
        "name": "ipython",
        "version": 3
      },
      "file_extension": ".py",
      "mimetype": "text/x-python",
      "name": "python",
      "nbconvert_exporter": "python",
      "pygments_lexer": "ipython3",
      "version": "3.7.3"
    },
    "colab": {
      "name": "masked-addition.ipynb",
      "provenance": [],
      "include_colab_link": true
    }
  },
  "cells": [
    {
      "cell_type": "markdown",
      "metadata": {
        "id": "view-in-github",
        "colab_type": "text"
      },
      "source": [
        "<a href=\"https://colab.research.google.com/github/madhugopinathan/deep-nlu/blob/master/masked_addition.ipynb\" target=\"_parent\"><img src=\"https://colab.research.google.com/assets/colab-badge.svg\" alt=\"Open In Colab\"/></a>"
      ]
    },
    {
      "cell_type": "markdown",
      "metadata": {
        "id": "XIKIeEhZhKjX",
        "colab_type": "text"
      },
      "source": [
        "https://minpy.readthedocs.io/en/latest/tutorial/rnn_tutorial/rnn_tutorial.html"
      ]
    },
    {
      "cell_type": "code",
      "metadata": {
        "id": "i08z5YO4hKjY",
        "colab_type": "code",
        "colab": {}
      },
      "source": [
        "%matplotlib inline"
      ],
      "execution_count": 1,
      "outputs": []
    },
    {
      "cell_type": "code",
      "metadata": {
        "id": "GGhD1UrbhKjc",
        "colab_type": "code",
        "colab": {}
      },
      "source": [
        "%config InlineBackend.figure_format = 'retina'"
      ],
      "execution_count": 2,
      "outputs": []
    },
    {
      "cell_type": "code",
      "metadata": {
        "id": "9nTKZrjRhKjf",
        "colab_type": "code",
        "colab": {}
      },
      "source": [
        "import matplotlib.pyplot as plt"
      ],
      "execution_count": 3,
      "outputs": []
    },
    {
      "cell_type": "code",
      "metadata": {
        "id": "zgwrzwk2hKji",
        "colab_type": "code",
        "colab": {}
      },
      "source": [
        "import numpy as np"
      ],
      "execution_count": 4,
      "outputs": []
    },
    {
      "cell_type": "code",
      "metadata": {
        "id": "fBR--JtUhKjk",
        "colab_type": "code",
        "colab": {}
      },
      "source": [
        "def adding_problem_generator(N, seq_len=6, high=1):\n",
        "    # input --> label\n",
        "    # 1 2 1 5 6  ---> 8 (2+6)\n",
        "    # 0 1 0 0 1\n",
        "    X_num = np.random.uniform(high=high, size=(N, seq_len, 1))\n",
        "    X_mask = np.zeros(shape=(N, seq_len, 1))\n",
        "    Y = np.zeros(shape=(N,1))\n",
        "    for i in range(N):\n",
        "        # choose 2 random positions to be set to 1\n",
        "        positions = np.random.choice(seq_len, size=2, replace=False)\n",
        "        X_mask[i, positions] = 1\n",
        "        Y[i, 0] = np.sum(X_num[i, positions])\n",
        "    return np.concatenate((X_num, X_mask), axis=2), Y"
      ],
      "execution_count": 5,
      "outputs": []
    },
    {
      "cell_type": "code",
      "metadata": {
        "id": "mSVq_Yn7hKjn",
        "colab_type": "code",
        "colab": {}
      },
      "source": [
        "N = 10000\n",
        "T = 20\n",
        "X_train, Y_train = adding_problem_generator(N, seq_len=T)"
      ],
      "execution_count": 6,
      "outputs": []
    },
    {
      "cell_type": "code",
      "metadata": {
        "id": "9y7lz8plhKjp",
        "colab_type": "code",
        "colab": {}
      },
      "source": [
        "X_test, Y_test = adding_problem_generator(100, seq_len=T)"
      ],
      "execution_count": 7,
      "outputs": []
    },
    {
      "cell_type": "code",
      "metadata": {
        "id": "3U0dJu9uhKjs",
        "colab_type": "code",
        "colab": {
          "base_uri": "https://localhost:8080/",
          "height": 357
        },
        "outputId": "a625c582-5fe6-4bbf-d1bb-766367c5e640"
      },
      "source": [
        "X_train[:1]"
      ],
      "execution_count": 8,
      "outputs": [
        {
          "output_type": "execute_result",
          "data": {
            "text/plain": [
              "array([[[0.44534945, 0.        ],\n",
              "        [0.93969555, 0.        ],\n",
              "        [0.14100264, 0.        ],\n",
              "        [0.6580253 , 1.        ],\n",
              "        [0.40006553, 0.        ],\n",
              "        [0.69936139, 0.        ],\n",
              "        [0.59575999, 0.        ],\n",
              "        [0.01143754, 0.        ],\n",
              "        [0.98284187, 0.        ],\n",
              "        [0.01437143, 0.        ],\n",
              "        [0.75632976, 0.        ],\n",
              "        [0.95300403, 0.        ],\n",
              "        [0.81719167, 0.        ],\n",
              "        [0.37187337, 0.        ],\n",
              "        [0.77996038, 0.        ],\n",
              "        [0.06913305, 0.        ],\n",
              "        [0.46837773, 1.        ],\n",
              "        [0.81418138, 0.        ],\n",
              "        [0.23527873, 0.        ],\n",
              "        [0.86899401, 0.        ]]])"
            ]
          },
          "metadata": {
            "tags": []
          },
          "execution_count": 8
        }
      ]
    },
    {
      "cell_type": "code",
      "metadata": {
        "id": "HneDknDJhKjv",
        "colab_type": "code",
        "colab": {
          "base_uri": "https://localhost:8080/",
          "height": 34
        },
        "outputId": "8748cda3-df38-46df-a39a-a9668037cc9c"
      },
      "source": [
        "Y_train[:1]"
      ],
      "execution_count": 9,
      "outputs": [
        {
          "output_type": "execute_result",
          "data": {
            "text/plain": [
              "array([[1.12640303]])"
            ]
          },
          "metadata": {
            "tags": []
          },
          "execution_count": 9
        }
      ]
    },
    {
      "cell_type": "code",
      "metadata": {
        "id": "VdTJ4SQ-hKjx",
        "colab_type": "code",
        "colab": {}
      },
      "source": [
        "X_test, Y_test = adding_problem_generator(N=10000, seq_len=T)"
      ],
      "execution_count": 10,
      "outputs": []
    },
    {
      "cell_type": "code",
      "metadata": {
        "id": "h8kLZ4HKhKjz",
        "colab_type": "code",
        "colab": {}
      },
      "source": [
        "# baseline: always predict 1\n",
        "baseline_mse = np.mean((Y_train-1)**2)"
      ],
      "execution_count": 11,
      "outputs": []
    },
    {
      "cell_type": "code",
      "metadata": {
        "id": "1_LWRx-ThKj1",
        "colab_type": "code",
        "colab": {
          "base_uri": "https://localhost:8080/",
          "height": 34
        },
        "outputId": "59c1f7dd-398f-44de-a905-2797b2b276d2"
      },
      "source": [
        "baseline_mse"
      ],
      "execution_count": 12,
      "outputs": [
        {
          "output_type": "execute_result",
          "data": {
            "text/plain": [
              "0.16924092843415486"
            ]
          },
          "metadata": {
            "tags": []
          },
          "execution_count": 12
        }
      ]
    },
    {
      "cell_type": "code",
      "metadata": {
        "id": "qrh89dcqhKj4",
        "colab_type": "code",
        "colab": {}
      },
      "source": [
        "import torch\n",
        "import torch.nn as nn\n",
        "from torch.nn import functional as F\n",
        "from torch import optim"
      ],
      "execution_count": 13,
      "outputs": []
    },
    {
      "cell_type": "markdown",
      "metadata": {
        "id": "cY6lmfUEhKj6",
        "colab_type": "text"
      },
      "source": [
        "# Elman RNN"
      ]
    },
    {
      "cell_type": "code",
      "metadata": {
        "id": "x_Ruv9EKhKj6",
        "colab_type": "code",
        "colab": {}
      },
      "source": [
        "class ElmanRNN(nn.Module):\n",
        "    def __init__(self, input_size, hidden_size, output_size):\n",
        "        super().__init__()\n",
        "        self.rnn = nn.RNN(input_size, hidden_size, \n",
        "                          num_layers=1, \n",
        "                          nonlinearity='relu',\n",
        "                          batch_first=True)\n",
        "        self.linear = nn.Linear(hidden_size, output_size)\n",
        "        \n",
        "    \n",
        "    def forward(self, inputs, hidden=None):\n",
        "        outputs, hidden = self.rnn(inputs, hidden)\n",
        "        #print(f\"RNN: {outputs.shape}, {hidden.shape}\")\n",
        "        #print(f\"squeeze: {hidden.squeeze(0).shape}\")\n",
        "        output = self.linear(hidden.squeeze(0))\n",
        "        #print(f\"output: {output.shape}\")\n",
        "        return output\n",
        "    "
      ],
      "execution_count": 14,
      "outputs": []
    },
    {
      "cell_type": "code",
      "metadata": {
        "id": "cW09-wbYhKj8",
        "colab_type": "code",
        "colab": {}
      },
      "source": [
        "X_train_T = torch.from_numpy(X_train).float()\n",
        "Y_train_T = torch.from_numpy(Y_train).float()\n",
        "X_test_T = torch.from_numpy(X_test).float()\n",
        "Y_test_T = torch.from_numpy(Y_test).float()"
      ],
      "execution_count": 15,
      "outputs": []
    },
    {
      "cell_type": "code",
      "metadata": {
        "id": "Mw7oHFZphKj-",
        "colab_type": "code",
        "colab": {
          "base_uri": "https://localhost:8080/",
          "height": 34
        },
        "outputId": "04e3dd04-6269-460b-9b25-057f344ed489"
      },
      "source": [
        "X_train_T.shape"
      ],
      "execution_count": 16,
      "outputs": [
        {
          "output_type": "execute_result",
          "data": {
            "text/plain": [
              "torch.Size([10000, 20, 2])"
            ]
          },
          "metadata": {
            "tags": []
          },
          "execution_count": 16
        }
      ]
    },
    {
      "cell_type": "code",
      "metadata": {
        "id": "cgH_w3gShKkB",
        "colab_type": "code",
        "colab": {
          "base_uri": "https://localhost:8080/",
          "height": 901
        },
        "outputId": "6969eec6-4698-43d9-c684-6d5f6596e945"
      },
      "source": [
        "%%time\n",
        "model = ElmanRNN(input_size=2, hidden_size=100, output_size=1)\n",
        "criterion = nn.MSELoss()\n",
        "optimizer = optim.Adam(model.parameters())\n",
        "\n",
        "batch_size = 100\n",
        "data_len = X_train.shape[0]\n",
        "n_epochs = 50\n",
        "losses = np.zeros(n_epochs)\n",
        "\n",
        "for epoch in range(n_epochs):\n",
        "    for start, end in zip(range(0, data_len+1, batch_size), \n",
        "                      range(batch_size, data_len+1, batch_size)):\n",
        "        output = model(X_train_T[start:end]) # hidden is None\n",
        "\n",
        "        optimizer.zero_grad()\n",
        "        loss = criterion(output, Y_train_T[start:end])\n",
        "        loss.backward()\n",
        "        optimizer.step()\n",
        "        \n",
        "        losses[epoch] += loss.item()\n",
        "        \n",
        "    print(\"Epoch = {}, Loss = {}\".format(epoch, losses[epoch]))"
      ],
      "execution_count": 17,
      "outputs": [
        {
          "output_type": "stream",
          "text": [
            "Epoch = 0, Loss = 24.650539457798004\n",
            "Epoch = 1, Loss = 16.090579606592655\n",
            "Epoch = 2, Loss = 12.5656100474298\n",
            "Epoch = 3, Loss = 4.887838029302657\n",
            "Epoch = 4, Loss = 1.6180782574228942\n",
            "Epoch = 5, Loss = 0.9278192659839988\n",
            "Epoch = 6, Loss = 0.6736499548424035\n",
            "Epoch = 7, Loss = 0.48963710479438305\n",
            "Epoch = 8, Loss = 0.3909674684982747\n",
            "Epoch = 9, Loss = 0.3142716120928526\n",
            "Epoch = 10, Loss = 0.2598282904946245\n",
            "Epoch = 11, Loss = 0.20220626483205706\n",
            "Epoch = 12, Loss = 0.16271785157732666\n",
            "Epoch = 13, Loss = 0.13036638841731474\n",
            "Epoch = 14, Loss = 0.09525943515473045\n",
            "Epoch = 15, Loss = 0.08579839530284517\n",
            "Epoch = 16, Loss = 0.07618388670380227\n",
            "Epoch = 17, Loss = 0.056309833176783286\n",
            "Epoch = 18, Loss = 0.057399347686441615\n",
            "Epoch = 19, Loss = 0.05257714264735114\n",
            "Epoch = 20, Loss = 0.05722430377500132\n",
            "Epoch = 21, Loss = 0.06047577936260495\n",
            "Epoch = 22, Loss = 0.053796206550032366\n",
            "Epoch = 23, Loss = 0.05517552522360347\n",
            "Epoch = 24, Loss = 0.05467094570485642\n",
            "Epoch = 25, Loss = 0.055427302737371065\n",
            "Epoch = 26, Loss = 0.051397684328549076\n",
            "Epoch = 27, Loss = 0.04998944745602785\n",
            "Epoch = 28, Loss = 0.042990587768144906\n",
            "Epoch = 29, Loss = 0.03429026844969485\n",
            "Epoch = 30, Loss = 0.032931504283624236\n",
            "Epoch = 31, Loss = 0.06317092910467181\n",
            "Epoch = 32, Loss = 0.030265712666732725\n",
            "Epoch = 33, Loss = 0.04728747249828302\n",
            "Epoch = 34, Loss = 0.05936240953815286\n",
            "Epoch = 35, Loss = 0.029840132519893814\n",
            "Epoch = 36, Loss = 0.04931910810046247\n",
            "Epoch = 37, Loss = 0.033726482946804026\n",
            "Epoch = 38, Loss = 0.05108770840524812\n",
            "Epoch = 39, Loss = 0.08346770622301847\n",
            "Epoch = 40, Loss = 0.08088554822461447\n",
            "Epoch = 41, Loss = 0.0310682020499371\n",
            "Epoch = 42, Loss = 0.021303049052221468\n",
            "Epoch = 43, Loss = 0.02700746503251139\n",
            "Epoch = 44, Loss = 0.03334444728170638\n",
            "Epoch = 45, Loss = 0.04013672085056896\n",
            "Epoch = 46, Loss = 0.03705328418072895\n",
            "Epoch = 47, Loss = 0.049120519306598\n",
            "Epoch = 48, Loss = 0.021772737316496205\n",
            "Epoch = 49, Loss = 0.039035183739542845\n",
            "CPU times: user 30.2 s, sys: 317 ms, total: 30.5 s\n",
            "Wall time: 30.7 s\n"
          ],
          "name": "stdout"
        }
      ]
    },
    {
      "cell_type": "code",
      "metadata": {
        "id": "IuLGKkQRhKkD",
        "colab_type": "code",
        "colab": {
          "base_uri": "https://localhost:8080/",
          "height": 282
        },
        "outputId": "f39cb3ad-9210-48c2-ab63-da21ecc72c0c"
      },
      "source": [
        "plt.plot(losses[10:])\n",
        "plt.axhline(baseline_mse,color='r')"
      ],
      "execution_count": 18,
      "outputs": [
        {
          "output_type": "execute_result",
          "data": {
            "text/plain": [
              "<matplotlib.lines.Line2D at 0x7ff505af0ac8>"
            ]
          },
          "metadata": {
            "tags": []
          },
          "execution_count": 18
        },
        {
          "output_type": "display_data",
          "data": {
            "image/png": "[encoded data removed]",
            "text/plain": [
              "<Figure size 432x288 with 1 Axes>"
            ]
          },
          "metadata": {
            "tags": [],
            "image/png": {
              "width": 378,
              "height": 248
            },
            "needs_background": "light"
          }
        }
      ]
    },
    {
      "cell_type": "code",
      "metadata": {
        "id": "4wyguHgDhKkF",
        "colab_type": "code",
        "colab": {
          "base_uri": "https://localhost:8080/",
          "height": 357
        },
        "outputId": "829d36de-928a-493a-a438-43639e99a56d"
      },
      "source": [
        "t = X_test_T[1:2,:,:]\n",
        "t"
      ],
      "execution_count": 19,
      "outputs": [
        {
          "output_type": "execute_result",
          "data": {
            "text/plain": [
              "tensor([[[0.0534, 0.0000],\n",
              "         [0.0890, 0.0000],\n",
              "         [0.3642, 0.0000],\n",
              "         [0.8611, 0.0000],\n",
              "         [0.0407, 0.0000],\n",
              "         [0.0116, 0.0000],\n",
              "         [0.9258, 0.0000],\n",
              "         [0.6390, 0.0000],\n",
              "         [0.0514, 0.0000],\n",
              "         [0.0655, 0.0000],\n",
              "         [0.6906, 0.0000],\n",
              "         [0.7247, 0.0000],\n",
              "         [0.2928, 0.0000],\n",
              "         [0.1538, 1.0000],\n",
              "         [0.8897, 0.0000],\n",
              "         [0.7652, 0.0000],\n",
              "         [0.1388, 1.0000],\n",
              "         [0.2810, 0.0000],\n",
              "         [0.8141, 0.0000],\n",
              "         [0.9815, 0.0000]]])"
            ]
          },
          "metadata": {
            "tags": []
          },
          "execution_count": 19
        }
      ]
    },
    {
      "cell_type": "code",
      "metadata": {
        "id": "8MrX1e03hKkH",
        "colab_type": "code",
        "colab": {
          "base_uri": "https://localhost:8080/",
          "height": 34
        },
        "outputId": "89cffe7b-7110-4472-f3c2-647fed739c9a"
      },
      "source": [
        "model(t)"
      ],
      "execution_count": 20,
      "outputs": [
        {
          "output_type": "execute_result",
          "data": {
            "text/plain": [
              "tensor([[0.3409]], grad_fn=<AddmmBackward>)"
            ]
          },
          "metadata": {
            "tags": []
          },
          "execution_count": 20
        }
      ]
    },
    {
      "cell_type": "code",
      "metadata": {
        "id": "xFJv55KShKkJ",
        "colab_type": "code",
        "colab": {
          "base_uri": "https://localhost:8080/",
          "height": 34
        },
        "outputId": "1f82643b-2f50-4ab9-ca7e-b9e46faead02"
      },
      "source": [
        "t[t[:,:,1]==1].sum(axis=0)"
      ],
      "execution_count": 21,
      "outputs": [
        {
          "output_type": "execute_result",
          "data": {
            "text/plain": [
              "tensor([0.2926, 2.0000])"
            ]
          },
          "metadata": {
            "tags": []
          },
          "execution_count": 21
        }
      ]
    },
    {
      "cell_type": "code",
      "metadata": {
        "id": "5TA_q6YLhKkL",
        "colab_type": "code",
        "colab": {}
      },
      "source": [
        ""
      ],
      "execution_count": 21,
      "outputs": []
    }
  ]
}