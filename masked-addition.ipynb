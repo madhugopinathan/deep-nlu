{
 "cells": [
  {
   "cell_type": "markdown",
   "metadata": {},
   "source": [
    "https://minpy.readthedocs.io/en/latest/tutorial/rnn_tutorial/rnn_tutorial.html"
   ]
  },
  {
   "cell_type": "code",
   "execution_count": 1,
   "metadata": {},
   "outputs": [],
   "source": [
    "%matplotlib inline"
   ]
  },
  {
   "cell_type": "code",
   "execution_count": 2,
   "metadata": {},
   "outputs": [],
   "source": [
    "%config InlineBackend.figure_format = 'retina'"
   ]
  },
  {
   "cell_type": "code",
   "execution_count": 3,
   "metadata": {},
   "outputs": [],
   "source": [
    "import matplotlib.pyplot as plt"
   ]
  },
  {
   "cell_type": "code",
   "execution_count": 4,
   "metadata": {},
   "outputs": [],
   "source": [
    "import numpy as np"
   ]
  },
  {
   "cell_type": "code",
   "execution_count": 5,
   "metadata": {},
   "outputs": [],
   "source": [
    "def adding_problem_generator(N, seq_len=6, high=1):\n",
    "    # input --> label\n",
    "    # 1 2 1 5 6  ---> 8 (2+6)\n",
    "    # 0 1 0 0 1\n",
    "    X_num = np.random.uniform(high=high, size=(N, seq_len, 1))\n",
    "    X_mask = np.zeros(shape=(N, seq_len, 1))\n",
    "    Y = np.zeros(shape=(N,1))\n",
    "    for i in range(N):\n",
    "        # choose 2 random positions to be set to 1\n",
    "        positions = np.random.choice(seq_len, size=2, replace=False)\n",
    "        X_mask[i, positions] = 1\n",
    "        Y[i, 0] = np.sum(X_num[i, positions])\n",
    "    return np.concatenate((X_num, X_mask), axis=2), Y"
   ]
  },
  {
   "cell_type": "code",
   "execution_count": 6,
   "metadata": {},
   "outputs": [],
   "source": [
    "N = 10000\n",
    "T = 20\n",
    "X_train, Y_train = adding_problem_generator(N, seq_len=T)"
   ]
  },
  {
   "cell_type": "code",
   "execution_count": 7,
   "metadata": {},
   "outputs": [],
   "source": [
    "X_test, Y_test = adding_problem_generator(100, seq_len=T)"
   ]
  },
  {
   "cell_type": "code",
   "execution_count": 8,
   "metadata": {},
   "outputs": [
    {
     "data": {
      "text/plain": [
       "array([[[0.00896595, 0.        ],\n",
       "        [0.8597838 , 0.        ],\n",
       "        [0.57431011, 0.        ],\n",
       "        [0.36871052, 0.        ],\n",
       "        [0.16925328, 0.        ],\n",
       "        [0.36403277, 0.        ],\n",
       "        [0.80133993, 0.        ],\n",
       "        [0.44525398, 0.        ],\n",
       "        [0.40381705, 0.        ],\n",
       "        [0.48552531, 0.        ],\n",
       "        [0.46509252, 0.        ],\n",
       "        [0.84062263, 0.        ],\n",
       "        [0.13746974, 0.        ],\n",
       "        [0.09630613, 0.        ],\n",
       "        [0.43591491, 1.        ],\n",
       "        [0.24794006, 0.        ],\n",
       "        [0.31933798, 0.        ],\n",
       "        [0.13483813, 0.        ],\n",
       "        [0.61981373, 1.        ],\n",
       "        [0.91275822, 0.        ]]])"
      ]
     },
     "execution_count": 8,
     "metadata": {},
     "output_type": "execute_result"
    }
   ],
   "source": [
    "X_train[:1]"
   ]
  },
  {
   "cell_type": "code",
   "execution_count": 9,
   "metadata": {},
   "outputs": [
    {
     "data": {
      "text/plain": [
       "array([[1.05572864]])"
      ]
     },
     "execution_count": 9,
     "metadata": {},
     "output_type": "execute_result"
    }
   ],
   "source": [
    "Y_train[:1]"
   ]
  },
  {
   "cell_type": "code",
   "execution_count": 10,
   "metadata": {},
   "outputs": [],
   "source": [
    "X_test, Y_test = adding_problem_generator(N=10000, seq_len=T)"
   ]
  },
  {
   "cell_type": "code",
   "execution_count": 11,
   "metadata": {},
   "outputs": [],
   "source": [
    "# baseline: always predict 1\n",
    "baseline_mse = np.mean((Y_train-1)**2)"
   ]
  },
  {
   "cell_type": "code",
   "execution_count": 12,
   "metadata": {},
   "outputs": [
    {
     "data": {
      "text/plain": [
       "0.16608767702310515"
      ]
     },
     "execution_count": 12,
     "metadata": {},
     "output_type": "execute_result"
    }
   ],
   "source": [
    "baseline_mse"
   ]
  },
  {
   "cell_type": "code",
   "execution_count": 13,
   "metadata": {},
   "outputs": [],
   "source": [
    "import torch\n",
    "import torch.nn as nn\n",
    "from torch.nn import functional as F\n",
    "from torch import optim"
   ]
  },
  {
   "cell_type": "markdown",
   "metadata": {},
   "source": [
    "# Elman RNN"
   ]
  },
  {
   "cell_type": "code",
   "execution_count": 14,
   "metadata": {},
   "outputs": [],
   "source": [
    "class ElmanRNN(nn.Module):\n",
    "    def __init__(self, input_size, hidden_size, output_size):\n",
    "        super().__init__()\n",
    "        self.rnn = nn.RNN(input_size, hidden_size, \n",
    "                          num_layers=1, \n",
    "                          nonlinearity='relu',\n",
    "                          batch_first=True)\n",
    "        self.linear = nn.Linear(hidden_size, output_size)\n",
    "        \n",
    "    \n",
    "    def forward(self, inputs, hidden=None):\n",
    "        outputs, hidden = self.rnn(inputs, hidden)\n",
    "        #print(f\"RNN: {outputs.shape}, {hidden.shape}\")\n",
    "        #print(f\"squeeze: {hidden.squeeze(0).shape}\")\n",
    "        output = self.linear(hidden.squeeze(0))\n",
    "        #print(f\"output: {output.shape}\")\n",
    "        return output\n",
    "    "
   ]
  },
  {
   "cell_type": "code",
   "execution_count": 15,
   "metadata": {},
   "outputs": [],
   "source": [
    "X_train_T = torch.from_numpy(X_train).float()\n",
    "Y_train_T = torch.from_numpy(Y_train).float()\n",
    "X_test_T = torch.from_numpy(X_test).float()\n",
    "Y_test_T = torch.from_numpy(Y_test).float()"
   ]
  },
  {
   "cell_type": "code",
   "execution_count": 16,
   "metadata": {},
   "outputs": [
    {
     "data": {
      "text/plain": [
       "torch.Size([10000, 20, 2])"
      ]
     },
     "execution_count": 16,
     "metadata": {},
     "output_type": "execute_result"
    }
   ],
   "source": [
    "X_train_T.shape"
   ]
  },
  {
   "cell_type": "code",
   "execution_count": 17,
   "metadata": {},
   "outputs": [
    {
     "name": "stdout",
     "output_type": "stream",
     "text": [
      "Epoch = 0, Loss = 30.468380391597748\n",
      "Epoch = 1, Loss = 16.1964333280921\n",
      "Epoch = 2, Loss = 15.616586424410343\n",
      "Epoch = 3, Loss = 9.930038766935468\n",
      "Epoch = 4, Loss = 1.7709462000057101\n",
      "Epoch = 5, Loss = 0.7070015799254179\n",
      "Epoch = 6, Loss = 0.41805045667570084\n",
      "Epoch = 7, Loss = 0.2878923456883058\n",
      "Epoch = 8, Loss = 0.20083657401846722\n",
      "Epoch = 9, Loss = 0.15433746052440256\n",
      "Epoch = 10, Loss = 0.11654785502469167\n",
      "Epoch = 11, Loss = 0.08669210207881406\n",
      "Epoch = 12, Loss = 0.06635035760700703\n",
      "Epoch = 13, Loss = 0.06142119361902587\n",
      "Epoch = 14, Loss = 0.05955263591022231\n",
      "Epoch = 15, Loss = 0.05689646885730326\n",
      "Epoch = 16, Loss = 0.05826521797280293\n",
      "Epoch = 17, Loss = 0.06276010841247626\n",
      "Epoch = 18, Loss = 0.060734252707334235\n",
      "Epoch = 19, Loss = 0.05537802695471328\n",
      "Epoch = 20, Loss = 0.04663849563803524\n",
      "Epoch = 21, Loss = 0.04561456004012143\n",
      "Epoch = 22, Loss = 0.04282862234686036\n",
      "Epoch = 23, Loss = 0.037249285203870386\n",
      "Epoch = 24, Loss = 0.05220875939994585\n",
      "Epoch = 25, Loss = 0.04286489330843324\n",
      "Epoch = 26, Loss = 0.056149827571061905\n",
      "Epoch = 27, Loss = 0.04065721979713999\n",
      "Epoch = 28, Loss = 0.052111713237536605\n",
      "Epoch = 29, Loss = 0.04384039062279044\n",
      "Epoch = 30, Loss = 0.04052685730130179\n",
      "Epoch = 31, Loss = 0.04689412236621138\n",
      "Epoch = 32, Loss = 0.041611054934037384\n",
      "Epoch = 33, Loss = 0.04506187707011122\n",
      "Epoch = 34, Loss = 0.049133713568153325\n",
      "Epoch = 35, Loss = 0.03495288863996393\n",
      "Epoch = 36, Loss = 0.03141661299014231\n",
      "Epoch = 37, Loss = 0.04479449989958084\n",
      "Epoch = 38, Loss = 0.06367834112461424\n",
      "Epoch = 39, Loss = 0.038352396553818835\n",
      "Epoch = 40, Loss = 0.020214774584019324\n",
      "Epoch = 41, Loss = 0.04777736008327338\n",
      "Epoch = 42, Loss = 0.040165981288737385\n",
      "Epoch = 43, Loss = 0.04990383824770106\n",
      "Epoch = 44, Loss = 0.04157972602843074\n",
      "Epoch = 45, Loss = 0.025986093787651043\n",
      "Epoch = 46, Loss = 0.04961619287132635\n",
      "Epoch = 47, Loss = 0.04194676956467447\n",
      "Epoch = 48, Loss = 0.040839835011865944\n",
      "Epoch = 49, Loss = 0.04256323773006443\n",
      "CPU times: user 4min 37s, sys: 10.8 s, total: 4min 47s\n",
      "Wall time: 27.2 s\n"
     ]
    }
   ],
   "source": [
    "%%time\n",
    "model = ElmanRNN(input_size=2, hidden_size=100, output_size=1)\n",
    "criterion = nn.MSELoss()\n",
    "optimizer = optim.Adam(model.parameters())\n",
    "\n",
    "batch_size = 100\n",
    "data_len = X_train.shape[0]\n",
    "n_epochs = 50\n",
    "losses = np.zeros(n_epochs)\n",
    "\n",
    "for epoch in range(n_epochs):\n",
    "    for start, end in zip(range(0, data_len+1, batch_size), \n",
    "                      range(batch_size, data_len+1, batch_size)):\n",
    "        output = model(X_train_T[start:end]) # hidden is None\n",
    "\n",
    "        optimizer.zero_grad()\n",
    "        loss = criterion(output, Y_train_T[start:end])\n",
    "        loss.backward()\n",
    "        optimizer.step()\n",
    "        \n",
    "        losses[epoch] += loss.item()\n",
    "        \n",
    "    print(\"Epoch = {}, Loss = {}\".format(epoch, losses[epoch]))"
   ]
  },
  {
   "cell_type": "code",
   "execution_count": 18,
   "metadata": {},
   "outputs": [
    {
     "data": {
      "text/plain": [
       "<matplotlib.lines.Line2D at 0x121675828>"
      ]
     },
     "execution_count": 18,
     "metadata": {},
     "output_type": "execute_result"
    },
    {
     "data": {
      "image/png": "[encoded data removed]",
      "text/plain": [
       "<Figure size 432x288 with 1 Axes>"
      ]
     },
     "metadata": {
      "image/png": {
       "height": 248,
       "width": 378
      },
      "needs_background": "light"
     },
     "output_type": "display_data"
    }
   ],
   "source": [
    "plt.plot(losses[10:])\n",
    "plt.axhline(baseline_mse,color='r')"
   ]
  },
  {
   "cell_type": "code",
   "execution_count": 19,
   "metadata": {},
   "outputs": [
    {
     "data": {
      "text/plain": [
       "tensor([[[0.7650, 1.0000],\n",
       "         [0.8052, 0.0000],\n",
       "         [0.5122, 0.0000],\n",
       "         [0.9350, 0.0000],\n",
       "         [0.8481, 0.0000],\n",
       "         [0.1240, 0.0000],\n",
       "         [0.8734, 0.0000],\n",
       "         [0.7090, 0.0000],\n",
       "         [0.1026, 0.0000],\n",
       "         [0.3617, 0.0000],\n",
       "         [0.5769, 0.0000],\n",
       "         [0.8501, 0.0000],\n",
       "         [0.4216, 0.0000],\n",
       "         [0.9936, 0.0000],\n",
       "         [0.2824, 0.0000],\n",
       "         [0.5937, 0.0000],\n",
       "         [0.6954, 0.0000],\n",
       "         [0.9718, 0.0000],\n",
       "         [0.7712, 1.0000],\n",
       "         [0.8694, 0.0000]]])"
      ]
     },
     "execution_count": 19,
     "metadata": {},
     "output_type": "execute_result"
    }
   ],
   "source": [
    "t = X_test_T[1:2,:,:]\n",
    "t"
   ]
  },
  {
   "cell_type": "code",
   "execution_count": 20,
   "metadata": {},
   "outputs": [
    {
     "data": {
      "text/plain": [
       "tensor([[1.5469]], grad_fn=<AddmmBackward>)"
      ]
     },
     "execution_count": 20,
     "metadata": {},
     "output_type": "execute_result"
    }
   ],
   "source": [
    "model(t)"
   ]
  },
  {
   "cell_type": "code",
   "execution_count": 27,
   "metadata": {},
   "outputs": [
    {
     "data": {
      "text/plain": [
       "tensor([1.5361, 2.0000])"
      ]
     },
     "execution_count": 27,
     "metadata": {},
     "output_type": "execute_result"
    }
   ],
   "source": [
    "t[t[:,:,1]==1].sum(axis=0)"
   ]
  },
  {
   "cell_type": "code",
   "execution_count": null,
   "metadata": {},
   "outputs": [],
   "source": []
  }
 ],
 "metadata": {
  "kernelspec": {
   "display_name": "Python 3",
   "language": "python",
   "name": "python3"
  },
  "language_info": {
   "codemirror_mode": {
    "name": "ipython",
    "version": 3
   },
   "file_extension": ".py",
   "mimetype": "text/x-python",
   "name": "python",
   "nbconvert_exporter": "python",
   "pygments_lexer": "ipython3",
   "version": "3.7.3"
  }
 },
 "nbformat": 4,
 "nbformat_minor": 2
}
