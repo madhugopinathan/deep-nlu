{
  "nbformat": 4,
  "nbformat_minor": 0,
  "metadata": {
    "accelerator": "GPU",
    "colab": {
      "name": "word-embeddings.ipynb",
      "provenance": [],
      "collapsed_sections": [],
      "toc_visible": true,
      "include_colab_link": true
    },
    "kernelspec": {
      "display_name": "Python 3",
      "language": "python",
      "name": "python3"
    },
    "language_info": {
      "codemirror_mode": {
        "name": "ipython",
        "version": 3
      },
      "file_extension": ".py",
      "mimetype": "text/x-python",
      "name": "python",
      "nbconvert_exporter": "python",
      "pygments_lexer": "ipython3",
      "version": "3.7.3"
    }
  },
  "cells": [
    {
      "cell_type": "markdown",
      "metadata": {
        "id": "view-in-github",
        "colab_type": "text"
      },
      "source": [
        "<a href=\"https://colab.research.google.com/github/madhugopinathan/deep-nlu/blob/master/word_embeddings.ipynb\" target=\"_parent\"><img src=\"https://colab.research.google.com/assets/colab-badge.svg\" alt=\"Open In Colab\"/></a>"
      ]
    },
    {
      "cell_type": "markdown",
      "metadata": {
        "colab_type": "text",
        "id": "2MbCXWKwqhg3"
      },
      "source": [
        "# Introduction to Word Embeddings"
      ]
    },
    {
      "cell_type": "code",
      "metadata": {
        "colab_type": "code",
        "id": "1PxiQSRyzNxT",
        "colab": {
          "base_uri": "https://localhost:8080/",
          "height": 394
        },
        "outputId": "267145e6-ea5f-420c-a83f-f0bec20b8355"
      },
      "source": [
        "!pip install -U torchtext"
      ],
      "execution_count": 1,
      "outputs": [
        {
          "output_type": "stream",
          "text": [
            "Collecting torchtext\n",
            "\u001b[?25l  Downloading https://files.pythonhosted.org/packages/f2/17/e7c588245aece7aa93f360894179374830daf60d7ed0bbb59332de3b3b61/torchtext-0.6.0-py3-none-any.whl (64kB)\n",
            "\r\u001b[K     |█████                           | 10kB 20.8MB/s eta 0:00:01\r\u001b[K     |██████████▏                     | 20kB 1.7MB/s eta 0:00:01\r\u001b[K     |███████████████▎                | 30kB 2.2MB/s eta 0:00:01\r\u001b[K     |████████████████████▍           | 40kB 2.5MB/s eta 0:00:01\r\u001b[K     |█████████████████████████▌      | 51kB 2.0MB/s eta 0:00:01\r\u001b[K     |██████████████████████████████▋ | 61kB 2.2MB/s eta 0:00:01\r\u001b[K     |████████████████████████████████| 71kB 2.0MB/s \n",
            "\u001b[?25hRequirement already satisfied, skipping upgrade: numpy in /usr/local/lib/python3.6/dist-packages (from torchtext) (1.18.5)\n",
            "Requirement already satisfied, skipping upgrade: requests in /usr/local/lib/python3.6/dist-packages (from torchtext) (2.23.0)\n",
            "Requirement already satisfied, skipping upgrade: tqdm in /usr/local/lib/python3.6/dist-packages (from torchtext) (4.41.1)\n",
            "Collecting sentencepiece\n",
            "\u001b[?25l  Downloading https://files.pythonhosted.org/packages/d4/a4/d0a884c4300004a78cca907a6ff9a5e9fe4f090f5d95ab341c53d28cbc58/sentencepiece-0.1.91-cp36-cp36m-manylinux1_x86_64.whl (1.1MB)\n",
            "\u001b[K     |████████████████████████████████| 1.1MB 6.5MB/s \n",
            "\u001b[?25hRequirement already satisfied, skipping upgrade: torch in /usr/local/lib/python3.6/dist-packages (from torchtext) (1.5.1+cu101)\n",
            "Requirement already satisfied, skipping upgrade: six in /usr/local/lib/python3.6/dist-packages (from torchtext) (1.15.0)\n",
            "Requirement already satisfied, skipping upgrade: chardet<4,>=3.0.2 in /usr/local/lib/python3.6/dist-packages (from requests->torchtext) (3.0.4)\n",
            "Requirement already satisfied, skipping upgrade: idna<3,>=2.5 in /usr/local/lib/python3.6/dist-packages (from requests->torchtext) (2.10)\n",
            "Requirement already satisfied, skipping upgrade: certifi>=2017.4.17 in /usr/local/lib/python3.6/dist-packages (from requests->torchtext) (2020.6.20)\n",
            "Requirement already satisfied, skipping upgrade: urllib3!=1.25.0,!=1.25.1,<1.26,>=1.21.1 in /usr/local/lib/python3.6/dist-packages (from requests->torchtext) (1.24.3)\n",
            "Requirement already satisfied, skipping upgrade: future in /usr/local/lib/python3.6/dist-packages (from torch->torchtext) (0.16.0)\n",
            "Installing collected packages: sentencepiece, torchtext\n",
            "  Found existing installation: torchtext 0.3.1\n",
            "    Uninstalling torchtext-0.3.1:\n",
            "      Successfully uninstalled torchtext-0.3.1\n",
            "Successfully installed sentencepiece-0.1.91 torchtext-0.6.0\n"
          ],
          "name": "stdout"
        }
      ]
    },
    {
      "cell_type": "code",
      "metadata": {
        "colab_type": "code",
        "id": "ISZkWa11qP8j",
        "colab": {
          "base_uri": "https://localhost:8080/",
          "height": 71
        },
        "outputId": "cda4fd53-e167-472c-caf0-78f8c1147c54"
      },
      "source": [
        "%matplotlib inline\n",
        "import matplotlib.pyplot as plt\n",
        "import numpy as np\n",
        "import pandas as pd\n",
        "import seaborn as sns"
      ],
      "execution_count": 2,
      "outputs": [
        {
          "output_type": "stream",
          "text": [
            "/usr/local/lib/python3.6/dist-packages/statsmodels/tools/_testing.py:19: FutureWarning: pandas.util.testing is deprecated. Use the functions in the public API at pandas.testing instead.\n",
            "  import pandas.util.testing as tm\n"
          ],
          "name": "stderr"
        }
      ]
    },
    {
      "cell_type": "code",
      "metadata": {
        "colab_type": "code",
        "id": "LRLChMgVq7dt",
        "colab": {}
      },
      "source": [
        "import torch\n",
        "import torchtext\n",
        "from torchtext.vocab import GloVe\n",
        "import umap"
      ],
      "execution_count": 3,
      "outputs": []
    },
    {
      "cell_type": "code",
      "metadata": {
        "colab_type": "code",
        "id": "3kv5YyUL_eAd",
        "colab": {
          "base_uri": "https://localhost:8080/",
          "height": 71
        },
        "outputId": "1548a2ff-704b-4956-ad3c-d5ff24229bd8"
      },
      "source": [
        "pd.options.display.max_colwidth=-1"
      ],
      "execution_count": 4,
      "outputs": [
        {
          "output_type": "stream",
          "text": [
            "/usr/local/lib/python3.6/dist-packages/ipykernel_launcher.py:1: FutureWarning: Passing a negative integer is deprecated in version 1.0 and will not be supported in future version. Instead, use None to not limit the column width.\n",
            "  \"\"\"Entry point for launching an IPython kernel.\n"
          ],
          "name": "stderr"
        }
      ]
    },
    {
      "cell_type": "markdown",
      "metadata": {
        "colab_type": "text",
        "id": "w5AGHFiYx9wY"
      },
      "source": [
        "## Visualize and explore neighbourhood of word embeddings (Glove)"
      ]
    },
    {
      "cell_type": "code",
      "metadata": {
        "colab_type": "code",
        "id": "Zd7kqsBOrHkO",
        "colab": {
          "base_uri": "https://localhost:8080/",
          "height": 51
        },
        "outputId": "888f57c7-14e8-45ec-e00a-573097f712f3"
      },
      "source": [
        "glove = GloVe(name = '840B', dim = 300)"
      ],
      "execution_count": 5,
      "outputs": [
        {
          "output_type": "stream",
          "text": [
            ".vector_cache/glove.840B.300d.zip: 2.18GB [16:57, 2.14MB/s]                            \n",
            "100%|█████████▉| 2195879/2196017 [05:39<00:00, 6883.00it/s]"
          ],
          "name": "stderr"
        }
      ]
    },
    {
      "cell_type": "code",
      "metadata": {
        "colab_type": "code",
        "id": "kVNOZl6twL8h",
        "colab": {}
      },
      "source": [
        "def get_word_vec(word):\n",
        "  assert word in glove.stoi, f\"{word} is OOV!\"\n",
        "  vec = glove.vectors[glove.stoi[word]]\n",
        "  return vec\n",
        "\n",
        "\n",
        "def cosine_similarity(word1, word2):\n",
        "  vec1 = get_word_vec(word1)\n",
        "  vec2 = get_word_vec(word2)\n",
        "  return torch.cosine_similarity(vec1.unsqueeze(0),\n",
        "                                 vec2.unsqueeze(0)).item()\n",
        "\n",
        "\n",
        "def get_nearest_neighbours(word_or_vec, n=10):\n",
        "    vec = None\n",
        "    if isinstance(word_or_vec, str):\n",
        "        vec = get_word_vec(word_or_vec)\n",
        "    else:\n",
        "        vec = word_or_vec\n",
        "        \n",
        "    topn =  torch.argsort(torch.mv(glove.vectors, vec), descending=True)[:n]\n",
        "        \n",
        "    return [glove.itos[idx] for idx in topn]"
      ],
      "execution_count": 7,
      "outputs": []
    },
    {
      "cell_type": "code",
      "metadata": {
        "colab_type": "code",
        "id": "mVxPFUcarN62",
        "colab": {}
      },
      "source": [
        "def plot_embeddings(words):\n",
        "  fig, axes = plt.subplots(nrows=len(words), \n",
        "                           ncols=1, \n",
        "                           sharex=True, \n",
        "                           figsize=(20,len(words)))\n",
        "\n",
        "  for ax, w in zip(axes.flat, words):\n",
        "    im = ax.imshow(glove.vectors[glove.stoi[w]].view(1,-1), \n",
        "                   cmap=plt.cm.coolwarm)\n",
        "    ax.set_aspect('auto')\n",
        "\n",
        "  fig.subplots_adjust(right=0.8)\n",
        "  cbar_ax = fig.add_axes([0.85, 0.15, 0.01, 0.7])\n",
        "  fig.colorbar(im, cax=cbar_ax)"
      ],
      "execution_count": 8,
      "outputs": []
    },
    {
      "cell_type": "code",
      "metadata": {
        "colab_type": "code",
        "id": "QRxN-ZBouVyy",
        "colab": {
          "base_uri": "https://localhost:8080/",
          "height": 324
        },
        "outputId": "48f776ad-318a-4f95-e701-fb8aab107624"
      },
      "source": [
        "words = ['gurgaon','paratha','dosa', 'pizza', 'pasta']\n",
        "plot_embeddings(words)"
      ],
      "execution_count": 9,
      "outputs": [
        {
          "output_type": "display_data",
          "data": {
            "image/png": "[encoded data removed]",
            "text/plain": [
              "<Figure size 1440x360 with 6 Axes>"
            ]
          },
          "metadata": {
            "tags": [],
            "needs_background": "light"
          }
        }
      ]
    },
    {
      "cell_type": "code",
      "metadata": {
        "id": "aVPo2OC8w8Nj",
        "colab_type": "code",
        "colab": {}
      },
      "source": [
        "from sklearn.metrics.pairwise import cosine_similarity as mat_cosine_similarity"
      ],
      "execution_count": 10,
      "outputs": []
    },
    {
      "cell_type": "code",
      "metadata": {
        "id": "QLSw5UcMxLVA",
        "colab_type": "code",
        "colab": {}
      },
      "source": [
        "E = torch.stack([get_word_vec(w) for w in words], \n",
        "            dim=0)"
      ],
      "execution_count": 11,
      "outputs": []
    },
    {
      "cell_type": "code",
      "metadata": {
        "id": "aNOi_Eo5xCss",
        "colab_type": "code",
        "colab": {}
      },
      "source": [
        "csim = mat_cosine_similarity(E)"
      ],
      "execution_count": 12,
      "outputs": []
    },
    {
      "cell_type": "code",
      "metadata": {
        "id": "8nAa_FGGxZx8",
        "colab_type": "code",
        "colab": {
          "base_uri": "https://localhost:8080/",
          "height": 119
        },
        "outputId": "f84acf9d-c35b-4d89-a83f-bcb4e59daabe"
      },
      "source": [
        "csim"
      ],
      "execution_count": 13,
      "outputs": [
        {
          "output_type": "execute_result",
          "data": {
            "text/plain": [
              "array([[0.99999976, 0.13655838, 0.14006974, 0.01849766, 0.00368263],\n",
              "       [0.13655838, 1.        , 0.69100374, 0.30521113, 0.3712668 ],\n",
              "       [0.14006974, 0.69100374, 0.9999999 , 0.3093319 , 0.38042688],\n",
              "       [0.01849766, 0.30521113, 0.3093319 , 0.9999999 , 0.7369544 ],\n",
              "       [0.00368263, 0.3712668 , 0.38042688, 0.7369544 , 0.99999964]],\n",
              "      dtype=float32)"
            ]
          },
          "metadata": {
            "tags": []
          },
          "execution_count": 13
        }
      ]
    },
    {
      "cell_type": "code",
      "metadata": {
        "id": "w__0zEmgxbrT",
        "colab_type": "code",
        "colab": {
          "base_uri": "https://localhost:8080/",
          "height": 269
        },
        "outputId": "0d5bd38c-029b-45c3-e8cf-f9701c7d22a9"
      },
      "source": [
        "plt.imshow(csim)\n",
        "plt.colorbar();"
      ],
      "execution_count": 14,
      "outputs": [
        {
          "output_type": "display_data",
          "data": {
            "image/png": "[encoded data removed]",
            "text/plain": [
              "<Figure size 432x288 with 2 Axes>"
            ]
          },
          "metadata": {
            "tags": [],
            "needs_background": "light"
          }
        }
      ]
    },
    {
      "cell_type": "code",
      "metadata": {
        "colab_type": "code",
        "id": "Ln-TB-ruznn2",
        "colab": {}
      },
      "source": [
        "foods = ['chapati','chana','bhatura','chole','dal',\n",
        "         'poha','idli','upma','dosa','puri',\n",
        "         'paratha','jalebi','kachori','khichdi','kofta']\n",
        "\n",
        "places = ['gurgaon','faridabad','lucknow','noida','delhi',\n",
        "          'koramangala','bangalore','goa','panaji','coorg',\n",
        "          'ladakh','amritsar','hyderabad','mumbai','varanasi'\n",
        "         ]\n",
        "\n",
        "food_places_df = pd.DataFrame(data={'word' : foods + places, \n",
        "                                    'type' : ['food'] * len(foods) + \n",
        "                                             ['place'] * len(places)})"
      ],
      "execution_count": 15,
      "outputs": []
    },
    {
      "cell_type": "code",
      "metadata": {
        "colab_type": "code",
        "id": "KFx4Xccc1WY1",
        "colab": {
          "base_uri": "https://localhost:8080/",
          "height": 204
        },
        "outputId": "debf7b20-9afb-4844-dc9a-b1b98f548ee1"
      },
      "source": [
        "food_places_df.sample(5)"
      ],
      "execution_count": 16,
      "outputs": [
        {
          "output_type": "execute_result",
          "data": {
            "text/html": [
              "<div>\n",
              "<style scoped>\n",
              "    .dataframe tbody tr th:only-of-type {\n",
              "        vertical-align: middle;\n",
              "    }\n",
              "\n",
              "    .dataframe tbody tr th {\n",
              "        vertical-align: top;\n",
              "    }\n",
              "\n",
              "    .dataframe thead th {\n",
              "        text-align: right;\n",
              "    }\n",
              "</style>\n",
              "<table border=\"1\" class=\"dataframe\">\n",
              "  <thead>\n",
              "    <tr style=\"text-align: right;\">\n",
              "      <th></th>\n",
              "      <th>word</th>\n",
              "      <th>type</th>\n",
              "    </tr>\n",
              "  </thead>\n",
              "  <tbody>\n",
              "    <tr>\n",
              "      <th>0</th>\n",
              "      <td>chapati</td>\n",
              "      <td>food</td>\n",
              "    </tr>\n",
              "    <tr>\n",
              "      <th>22</th>\n",
              "      <td>goa</td>\n",
              "      <td>place</td>\n",
              "    </tr>\n",
              "    <tr>\n",
              "      <th>2</th>\n",
              "      <td>bhatura</td>\n",
              "      <td>food</td>\n",
              "    </tr>\n",
              "    <tr>\n",
              "      <th>13</th>\n",
              "      <td>khichdi</td>\n",
              "      <td>food</td>\n",
              "    </tr>\n",
              "    <tr>\n",
              "      <th>24</th>\n",
              "      <td>coorg</td>\n",
              "      <td>place</td>\n",
              "    </tr>\n",
              "  </tbody>\n",
              "</table>\n",
              "</div>"
            ],
            "text/plain": [
              "       word   type\n",
              "0   chapati  food \n",
              "22  goa      place\n",
              "2   bhatura  food \n",
              "13  khichdi  food \n",
              "24  coorg    place"
            ]
          },
          "metadata": {
            "tags": []
          },
          "execution_count": 16
        }
      ]
    },
    {
      "cell_type": "code",
      "metadata": {
        "colab_type": "code",
        "id": "jnL5LYgF2vyB",
        "colab": {}
      },
      "source": [
        "E = torch.stack([get_word_vec(row.word) for _,row in food_places_df.iterrows()], \n",
        "            dim=0)"
      ],
      "execution_count": 17,
      "outputs": []
    },
    {
      "cell_type": "code",
      "metadata": {
        "colab_type": "code",
        "id": "dER52bCs3IS7",
        "colab": {
          "base_uri": "https://localhost:8080/",
          "height": 34
        },
        "outputId": "256260b6-bcd3-4c37-8ae8-7b6ba31d372d"
      },
      "source": [
        "E.shape"
      ],
      "execution_count": 18,
      "outputs": [
        {
          "output_type": "execute_result",
          "data": {
            "text/plain": [
              "torch.Size([30, 300])"
            ]
          },
          "metadata": {
            "tags": []
          },
          "execution_count": 18
        }
      ]
    },
    {
      "cell_type": "code",
      "metadata": {
        "colab_type": "code",
        "id": "X1djqVpu0V6D",
        "colab": {}
      },
      "source": [
        "fit = umap.UMAP(n_neighbors=5, random_state=42, metric='cosine')\n",
        "u = fit.fit_transform(E)"
      ],
      "execution_count": 19,
      "outputs": []
    },
    {
      "cell_type": "code",
      "metadata": {
        "colab_type": "code",
        "id": "zXsRIa203NDr",
        "colab": {
          "base_uri": "https://localhost:8080/",
          "height": 267
        },
        "outputId": "db426a25-2fda-4376-a283-59b5c8747c91"
      },
      "source": [
        "fig, ax = plt.subplots(figsize=(12,4))\n",
        "sns.scatterplot(u[:,0], u[:,1], ax=ax, hue=food_places_df.type, s=100);"
      ],
      "execution_count": 20,
      "outputs": [
        {
          "output_type": "display_data",
          "data": {
            "image/png": "[encoded data removed]",
            "text/plain": [
              "<Figure size 864x288 with 1 Axes>"
            ]
          },
          "metadata": {
            "tags": [],
            "needs_background": "light"
          }
        }
      ]
    },
    {
      "cell_type": "code",
      "metadata": {
        "colab_type": "code",
        "id": "RbxtY_jF4_dR",
        "colab": {
          "base_uri": "https://localhost:8080/",
          "height": 34
        },
        "outputId": "a4aa43e8-3d47-480a-ace6-623a9e02557f"
      },
      "source": [
        "glove.vectors.shape"
      ],
      "execution_count": 21,
      "outputs": [
        {
          "output_type": "execute_result",
          "data": {
            "text/plain": [
              "torch.Size([2196017, 300])"
            ]
          },
          "metadata": {
            "tags": []
          },
          "execution_count": 21
        }
      ]
    },
    {
      "cell_type": "code",
      "metadata": {
        "colab_type": "code",
        "id": "RXIphHuM4fTA",
        "colab": {}
      },
      "source": [
        "num_points = 10000\n",
        "indices = np.random.choice(glove.vectors.shape[0],size=num_points, \n",
        "                           replace=False)\n",
        "\n",
        "E = glove.vectors[indices]\n",
        "fit = umap.UMAP(n_neighbors=10, random_state=42, metric='cosine')\n",
        "u = fit.fit_transform(E)"
      ],
      "execution_count": 22,
      "outputs": []
    },
    {
      "cell_type": "code",
      "metadata": {
        "colab_type": "code",
        "id": "1svheOrq5tBd",
        "colab": {
          "base_uri": "https://localhost:8080/",
          "height": 483
        },
        "outputId": "3f66c9d1-08b0-4a55-dc59-093cd5cf3c96"
      },
      "source": [
        "fig, ax = plt.subplots(figsize=(18,8))\n",
        "sns.scatterplot(u[:,0], u[:,1], ax=ax, s=10);"
      ],
      "execution_count": 23,
      "outputs": [
        {
          "output_type": "display_data",
          "data": {
            "image/png": "[encoded data removed]",
            "text/plain": [
              "<Figure size 1296x576 with 1 Axes>"
            ]
          },
          "metadata": {
            "tags": [],
            "needs_background": "light"
          }
        }
      ]
    },
    {
      "cell_type": "markdown",
      "metadata": {
        "colab_type": "text",
        "id": "sE3XGxWWxoYf"
      },
      "source": [
        "## References\n",
        "1. [The Illustrated Word2Vec](http://jalammar.github.io/illustrated-word2vec/)\n",
        "1. [Uniform Manifold Approximation and Projection (UMAP)](https://github.com/lmcinnes/umap)\n"
      ]
    },
    {
      "cell_type": "code",
      "metadata": {
        "colab_type": "code",
        "id": "eWHBevXgwsw1",
        "colab": {}
      },
      "source": [
        "def get_missing_word(a,b,c):\n",
        "  avec = get_word_vec(a)\n",
        "  bvec = get_word_vec(b)\n",
        "  cvec = get_word_vec(c)\n",
        "   \n",
        "  dvec = cvec + bvec - avec\n",
        "  candidates = get_nearest_neighbours(dvec, n=5)\n",
        "\n",
        "  input_words = [a.lower(), b.lower(), c.lower()]\n",
        "  candidates = [el for el in candidates if el.lower() not in input_words]\n",
        "  return candidates[0]"
      ],
      "execution_count": 24,
      "outputs": []
    },
    {
      "cell_type": "code",
      "metadata": {
        "id": "cT2t2RqP0R_m",
        "colab_type": "code",
        "colab": {
          "base_uri": "https://localhost:8080/",
          "height": 35
        },
        "outputId": "0ded03b9-d5a3-439e-aece-4043ec569f81"
      },
      "source": [
        "get_missing_word('man','woman','king')"
      ],
      "execution_count": 25,
      "outputs": [
        {
          "output_type": "execute_result",
          "data": {
            "application/vnd.google.colaboratory.intrinsic+json": {
              "type": "string"
            },
            "text/plain": [
              "'queen'"
            ]
          },
          "metadata": {
            "tags": []
          },
          "execution_count": 25
        }
      ]
    },
    {
      "cell_type": "code",
      "metadata": {
        "id": "ewo8Q_ZK0UVi",
        "colab_type": "code",
        "colab": {
          "base_uri": "https://localhost:8080/",
          "height": 35
        },
        "outputId": "714a5b0f-99f6-45ec-cd8d-3f8573633562"
      },
      "source": [
        "get_missing_word('delhi','india','tokyo')"
      ],
      "execution_count": 26,
      "outputs": [
        {
          "output_type": "execute_result",
          "data": {
            "application/vnd.google.colaboratory.intrinsic+json": {
              "type": "string"
            },
            "text/plain": [
              "'japan'"
            ]
          },
          "metadata": {
            "tags": []
          },
          "execution_count": 26
        }
      ]
    },
    {
      "cell_type": "code",
      "metadata": {
        "id": "vjj1Y9ub0u7B",
        "colab_type": "code",
        "colab": {
          "base_uri": "https://localhost:8080/",
          "height": 35
        },
        "outputId": "6b25d51f-85d6-4751-c11c-bfe2be99cafe"
      },
      "source": [
        "get_missing_word('dosa','india','croissant')"
      ],
      "execution_count": 27,
      "outputs": [
        {
          "output_type": "execute_result",
          "data": {
            "application/vnd.google.colaboratory.intrinsic+json": {
              "type": "string"
            },
            "text/plain": [
              "'france'"
            ]
          },
          "metadata": {
            "tags": []
          },
          "execution_count": 27
        }
      ]
    },
    {
      "cell_type": "markdown",
      "metadata": {
        "id": "sQH8IGaa1ItG",
        "colab_type": "text"
      },
      "source": [
        "## Representation of the gender concept"
      ]
    },
    {
      "cell_type": "code",
      "metadata": {
        "id": "qUnOE_NG031R",
        "colab_type": "code",
        "colab": {}
      },
      "source": [
        "gender_pairs = [('she','he'),\n",
        "                ('her','his'),\n",
        "                ('woman','man'),\n",
        "                ('daughter','son'),\n",
        "                ('mother','father'),\n",
        "               ]\n",
        "words = [el for pair in gender_pairs for el in pair]\n",
        "gender_df = pd.DataFrame(data={'gender' : ['female', 'male'] * len(gender_pairs),\n",
        "                               'word' : words\n",
        "                              })"
      ],
      "execution_count": 28,
      "outputs": []
    },
    {
      "cell_type": "code",
      "metadata": {
        "id": "F-3FuSVF1Fld",
        "colab_type": "code",
        "colab": {
          "base_uri": "https://localhost:8080/",
          "height": 359
        },
        "outputId": "ceb40a25-de80-471d-bf04-9ff4116af465"
      },
      "source": [
        "gender_df"
      ],
      "execution_count": 29,
      "outputs": [
        {
          "output_type": "execute_result",
          "data": {
            "text/html": [
              "<div>\n",
              "<style scoped>\n",
              "    .dataframe tbody tr th:only-of-type {\n",
              "        vertical-align: middle;\n",
              "    }\n",
              "\n",
              "    .dataframe tbody tr th {\n",
              "        vertical-align: top;\n",
              "    }\n",
              "\n",
              "    .dataframe thead th {\n",
              "        text-align: right;\n",
              "    }\n",
              "</style>\n",
              "<table border=\"1\" class=\"dataframe\">\n",
              "  <thead>\n",
              "    <tr style=\"text-align: right;\">\n",
              "      <th></th>\n",
              "      <th>gender</th>\n",
              "      <th>word</th>\n",
              "    </tr>\n",
              "  </thead>\n",
              "  <tbody>\n",
              "    <tr>\n",
              "      <th>0</th>\n",
              "      <td>female</td>\n",
              "      <td>she</td>\n",
              "    </tr>\n",
              "    <tr>\n",
              "      <th>1</th>\n",
              "      <td>male</td>\n",
              "      <td>he</td>\n",
              "    </tr>\n",
              "    <tr>\n",
              "      <th>2</th>\n",
              "      <td>female</td>\n",
              "      <td>her</td>\n",
              "    </tr>\n",
              "    <tr>\n",
              "      <th>3</th>\n",
              "      <td>male</td>\n",
              "      <td>his</td>\n",
              "    </tr>\n",
              "    <tr>\n",
              "      <th>4</th>\n",
              "      <td>female</td>\n",
              "      <td>woman</td>\n",
              "    </tr>\n",
              "    <tr>\n",
              "      <th>5</th>\n",
              "      <td>male</td>\n",
              "      <td>man</td>\n",
              "    </tr>\n",
              "    <tr>\n",
              "      <th>6</th>\n",
              "      <td>female</td>\n",
              "      <td>daughter</td>\n",
              "    </tr>\n",
              "    <tr>\n",
              "      <th>7</th>\n",
              "      <td>male</td>\n",
              "      <td>son</td>\n",
              "    </tr>\n",
              "    <tr>\n",
              "      <th>8</th>\n",
              "      <td>female</td>\n",
              "      <td>mother</td>\n",
              "    </tr>\n",
              "    <tr>\n",
              "      <th>9</th>\n",
              "      <td>male</td>\n",
              "      <td>father</td>\n",
              "    </tr>\n",
              "  </tbody>\n",
              "</table>\n",
              "</div>"
            ],
            "text/plain": [
              "   gender      word\n",
              "0  female  she     \n",
              "1  male    he      \n",
              "2  female  her     \n",
              "3  male    his     \n",
              "4  female  woman   \n",
              "5  male    man     \n",
              "6  female  daughter\n",
              "7  male    son     \n",
              "8  female  mother  \n",
              "9  male    father  "
            ]
          },
          "metadata": {
            "tags": []
          },
          "execution_count": 29
        }
      ]
    },
    {
      "cell_type": "code",
      "metadata": {
        "id": "m8N-ckON1hV7",
        "colab_type": "code",
        "colab": {}
      },
      "source": [
        "X = torch.stack([get_word_vec(w) for w in gender_df.word], dim=0)\n"
      ],
      "execution_count": 30,
      "outputs": []
    },
    {
      "cell_type": "code",
      "metadata": {
        "id": "M6a_2RS51kKC",
        "colab_type": "code",
        "colab": {
          "base_uri": "https://localhost:8080/",
          "height": 34
        },
        "outputId": "41c05aaf-264c-4acd-dcab-e83c7c46ea08"
      },
      "source": [
        "X.shape"
      ],
      "execution_count": 31,
      "outputs": [
        {
          "output_type": "execute_result",
          "data": {
            "text/plain": [
              "torch.Size([10, 300])"
            ]
          },
          "metadata": {
            "tags": []
          },
          "execution_count": 31
        }
      ]
    },
    {
      "cell_type": "code",
      "metadata": {
        "id": "txpD8yOm1mP7",
        "colab_type": "code",
        "colab": {}
      },
      "source": [
        "from sklearn.decomposition import PCA\n",
        "from sklearn.preprocessing import StandardScaler\n",
        "from sklearn.pipeline import Pipeline"
      ],
      "execution_count": 32,
      "outputs": []
    },
    {
      "cell_type": "code",
      "metadata": {
        "id": "ze_fITS81t3L",
        "colab_type": "code",
        "colab": {}
      },
      "source": [
        "pipe = Pipeline([('scaler',StandardScaler()),\n",
        "                 ('pca', PCA(n_components=2))\n",
        "                ])"
      ],
      "execution_count": 33,
      "outputs": []
    },
    {
      "cell_type": "code",
      "metadata": {
        "id": "COlat6S31wNf",
        "colab_type": "code",
        "colab": {}
      },
      "source": [
        "X_reduced = pipe.fit_transform(X)"
      ],
      "execution_count": 34,
      "outputs": []
    },
    {
      "cell_type": "code",
      "metadata": {
        "id": "s1-WtRQC1yE2",
        "colab_type": "code",
        "colab": {
          "base_uri": "https://localhost:8080/",
          "height": 265
        },
        "outputId": "3f998d5d-0b77-4f53-f3ce-06f5aa49f6f0"
      },
      "source": [
        "fig, ax = plt.subplots(figsize=(12,4))\n",
        "\n",
        "sns.scatterplot(X_reduced[:,0], X_reduced[:,1], ax=ax, hue=gender_df.gender, s=60)\n",
        "\n",
        "for i, word in enumerate(words):\n",
        "    ax.annotate(word, (X_reduced[i,0], X_reduced[i,1]))\n",
        "    \n",
        "for i in range(0, X_reduced.shape[0], 2):\n",
        "    ax.plot(X_reduced[i:i+2,0], X_reduced[i:i+2,1], c='gray', linewidth=1)"
      ],
      "execution_count": 35,
      "outputs": [
        {
          "output_type": "display_data",
          "data": {
            "image/png": "[encoded data removed]",
            "text/plain": [
              "<Figure size 864x288 with 1 Axes>"
            ]
          },
          "metadata": {
            "tags": [],
            "needs_background": "light"
          }
        }
      ]
    },
    {
      "cell_type": "code",
      "metadata": {
        "id": "HGhBSJ3_11DK",
        "colab_type": "code",
        "colab": {}
      },
      "source": [
        "vecs = []\n",
        "for i in range(0, X.shape[0], 2):\n",
        "    a = X[i,:]\n",
        "    b = X[i+1,:]\n",
        "    mean_vec = (a+b)/2\n",
        "    vecs.append(a-mean_vec)\n",
        "    vecs.append(b-mean_vec)\n",
        "X1 = torch.stack(vecs, dim=0)"
      ],
      "execution_count": 36,
      "outputs": []
    },
    {
      "cell_type": "code",
      "metadata": {
        "id": "iqVKRFUP2AzA",
        "colab_type": "code",
        "colab": {}
      },
      "source": [
        "X1_reduced = pipe.fit_transform(X1)\n"
      ],
      "execution_count": 37,
      "outputs": []
    },
    {
      "cell_type": "code",
      "metadata": {
        "id": "hGFIBFON2Cud",
        "colab_type": "code",
        "colab": {
          "base_uri": "https://localhost:8080/",
          "height": 265
        },
        "outputId": "ac0b254e-e863-43e4-c190-f2c091391f51"
      },
      "source": [
        "fig, ax = plt.subplots(figsize=(12,4))\n",
        "\n",
        "sns.scatterplot(X1_reduced[:,0], X1_reduced[:,1], ax=ax, hue=gender_df.gender, s=60)\n",
        "\n",
        "for i, word in enumerate(words):\n",
        "    ax.annotate(word, (X1_reduced[i,0], X1_reduced[i,1]))"
      ],
      "execution_count": 38,
      "outputs": [
        {
          "output_type": "display_data",
          "data": {
            "image/png": "[encoded data removed]",
            "text/plain": [
              "<Figure size 864x288 with 1 Axes>"
            ]
          },
          "metadata": {
            "tags": [],
            "needs_background": "light"
          }
        }
      ]
    },
    {
      "cell_type": "code",
      "metadata": {
        "id": "eJl-l6V82Nxq",
        "colab_type": "code",
        "colab": {}
      },
      "source": [
        "vecs = []\n",
        "for i in range(0, X1.shape[0], 2):\n",
        "    a = X[i,:]\n",
        "    b = X[i+1,:]\n",
        "    vecs.append(b-a)\n",
        "X2 = torch.stack(vecs, dim=0)"
      ],
      "execution_count": 39,
      "outputs": []
    },
    {
      "cell_type": "code",
      "metadata": {
        "id": "LZkPpSJ32YO6",
        "colab_type": "code",
        "colab": {}
      },
      "source": [
        "gender_vector = X2.mean(dim=0)\n"
      ],
      "execution_count": 40,
      "outputs": []
    },
    {
      "cell_type": "code",
      "metadata": {
        "id": "NyB3fefx2bHi",
        "colab_type": "code",
        "colab": {}
      },
      "source": [
        "def get_masculine_word(feminine_word):\n",
        "  word_vector = get_word_vec(feminine_word)\n",
        "  candidates = get_nearest_neighbours(word_vector + gender_vector)\n",
        "  return [c for c in candidates if c not in [feminine_word, feminine_word+\"s\"]][0]"
      ],
      "execution_count": 41,
      "outputs": []
    },
    {
      "cell_type": "code",
      "metadata": {
        "id": "OavlPihN2eSj",
        "colab_type": "code",
        "colab": {
          "base_uri": "https://localhost:8080/",
          "height": 35
        },
        "outputId": "e00abfd4-79c4-4afb-e9cb-04a3976d18f7"
      },
      "source": [
        "get_masculine_word('headmistress')"
      ],
      "execution_count": 42,
      "outputs": [
        {
          "output_type": "execute_result",
          "data": {
            "application/vnd.google.colaboratory.intrinsic+json": {
              "type": "string"
            },
            "text/plain": [
              "'headmaster'"
            ]
          },
          "metadata": {
            "tags": []
          },
          "execution_count": 42
        }
      ]
    },
    {
      "cell_type": "code",
      "metadata": {
        "id": "pb3KY4XW2giW",
        "colab_type": "code",
        "colab": {
          "base_uri": "https://localhost:8080/",
          "height": 35
        },
        "outputId": "0597c14b-9feb-4b0e-eb9c-abf91bd0a42e"
      },
      "source": [
        "get_masculine_word('daughter-in-law')\n"
      ],
      "execution_count": 43,
      "outputs": [
        {
          "output_type": "execute_result",
          "data": {
            "application/vnd.google.colaboratory.intrinsic+json": {
              "type": "string"
            },
            "text/plain": [
              "'son-in-law'"
            ]
          },
          "metadata": {
            "tags": []
          },
          "execution_count": 43
        }
      ]
    },
    {
      "cell_type": "code",
      "metadata": {
        "id": "0NACcwNM2lmD",
        "colab_type": "code",
        "colab": {
          "base_uri": "https://localhost:8080/",
          "height": 35
        },
        "outputId": "ab14f847-4075-46a7-8a1e-d08d2c922688"
      },
      "source": [
        "get_masculine_word('step-mother')\n"
      ],
      "execution_count": 44,
      "outputs": [
        {
          "output_type": "execute_result",
          "data": {
            "application/vnd.google.colaboratory.intrinsic+json": {
              "type": "string"
            },
            "text/plain": [
              "'step-father'"
            ]
          },
          "metadata": {
            "tags": []
          },
          "execution_count": 44
        }
      ]
    },
    {
      "cell_type": "code",
      "metadata": {
        "id": "NysE1srz2rOQ",
        "colab_type": "code",
        "colab": {
          "base_uri": "https://localhost:8080/",
          "height": 35
        },
        "outputId": "e57c259c-c7d5-49c4-fb3a-678fde2f3f5d"
      },
      "source": [
        "get_masculine_word('mother-in-law')\n"
      ],
      "execution_count": 45,
      "outputs": [
        {
          "output_type": "execute_result",
          "data": {
            "application/vnd.google.colaboratory.intrinsic+json": {
              "type": "string"
            },
            "text/plain": [
              "'father-in-law'"
            ]
          },
          "metadata": {
            "tags": []
          },
          "execution_count": 45
        }
      ]
    },
    {
      "cell_type": "code",
      "metadata": {
        "id": "qQjD_Cek2ty4",
        "colab_type": "code",
        "colab": {
          "base_uri": "https://localhost:8080/",
          "height": 35
        },
        "outputId": "c185a95b-0234-4de1-94ca-ff9d9b5ff3e0"
      },
      "source": [
        "get_masculine_word('step-daughter')\n"
      ],
      "execution_count": 46,
      "outputs": [
        {
          "output_type": "execute_result",
          "data": {
            "application/vnd.google.colaboratory.intrinsic+json": {
              "type": "string"
            },
            "text/plain": [
              "'step-son'"
            ]
          },
          "metadata": {
            "tags": []
          },
          "execution_count": 46
        }
      ]
    },
    {
      "cell_type": "code",
      "metadata": {
        "id": "NvdtGmvn2wBy",
        "colab_type": "code",
        "colab": {
          "base_uri": "https://localhost:8080/",
          "height": 35
        },
        "outputId": "e1ab2acb-3590-472f-a833-47ae1004a350"
      },
      "source": [
        "get_masculine_word('stepdaughter')\n"
      ],
      "execution_count": 47,
      "outputs": [
        {
          "output_type": "execute_result",
          "data": {
            "application/vnd.google.colaboratory.intrinsic+json": {
              "type": "string"
            },
            "text/plain": [
              "'stepson'"
            ]
          },
          "metadata": {
            "tags": []
          },
          "execution_count": 47
        }
      ]
    },
    {
      "cell_type": "code",
      "metadata": {
        "id": "tQVEqiMo2x44",
        "colab_type": "code",
        "colab": {
          "base_uri": "https://localhost:8080/",
          "height": 35
        },
        "outputId": "947e4760-24ce-4573-8d00-f68894fcdf1b"
      },
      "source": [
        "get_masculine_word('policewoman')\n"
      ],
      "execution_count": 48,
      "outputs": [
        {
          "output_type": "execute_result",
          "data": {
            "application/vnd.google.colaboratory.intrinsic+json": {
              "type": "string"
            },
            "text/plain": [
              "'policeman'"
            ]
          },
          "metadata": {
            "tags": []
          },
          "execution_count": 48
        }
      ]
    },
    {
      "cell_type": "code",
      "metadata": {
        "id": "kxJJMul-20CH",
        "colab_type": "code",
        "colab": {
          "base_uri": "https://localhost:8080/",
          "height": 35
        },
        "outputId": "01eed1ba-08ee-409b-fc3e-1a8d491e763a"
      },
      "source": [
        "get_masculine_word('chairwoman')\n"
      ],
      "execution_count": 49,
      "outputs": [
        {
          "output_type": "execute_result",
          "data": {
            "application/vnd.google.colaboratory.intrinsic+json": {
              "type": "string"
            },
            "text/plain": [
              "'chairman'"
            ]
          },
          "metadata": {
            "tags": []
          },
          "execution_count": 49
        }
      ]
    },
    {
      "cell_type": "markdown",
      "metadata": {
        "id": "_Un-NroM14FC",
        "colab_type": "text"
      },
      "source": [
        "# Exercise: Compute the concept vector & predict!\n",
        "\n",
        "pairs = [('good','bad'),\n",
        "         ('beautiful','ugly'),\n",
        "         ('interesting','boring'),\n",
        "         ('clean','dirty'),\n",
        "         ('safe','dangerous')]\n",
        "\n",
        "test_words = ['terrific', 'fantastic', 'pretty', 'nice', 'innocent', 'expensive']"
      ]
    },
    {
      "cell_type": "markdown",
      "metadata": {
        "id": "syudxlgr24uL",
        "colab_type": "text"
      },
      "source": [
        "# Applications\n",
        "\n",
        "* [Concept Search using Word Embeddings](https://cxlabs.sap.com/2018/06/11/concept-search-by-word-embeddings/)"
      ]
    },
    {
      "cell_type": "markdown",
      "metadata": {
        "id": "sDRPtm8-Iv7I",
        "colab_type": "text"
      },
      "source": [
        "# Approximate Nearest Neighbour Search"
      ]
    },
    {
      "cell_type": "code",
      "metadata": {
        "id": "UYAL1_B3BgNu",
        "colab_type": "code",
        "colab": {
          "base_uri": "https://localhost:8080/",
          "height": 207
        },
        "outputId": "6be4c8bf-4d42-4ebf-85cf-2ac9ce3aca69"
      },
      "source": [
        "!pip install annoy"
      ],
      "execution_count": 50,
      "outputs": [
        {
          "output_type": "stream",
          "text": [
            "Collecting annoy\n",
            "\u001b[?25l  Downloading https://files.pythonhosted.org/packages/00/15/5a9db225ebda93a235aebd5e42bbf83ab7035e7e4783c6cb528c635c9afb/annoy-1.16.3.tar.gz (644kB)\n",
            "\r\u001b[K     |▌                               | 10kB 17.4MB/s eta 0:00:01\r\u001b[K     |█                               | 20kB 1.7MB/s eta 0:00:01\r\u001b[K     |█▌                              | 30kB 2.2MB/s eta 0:00:01\r\u001b[K     |██                              | 40kB 2.5MB/s eta 0:00:01\r\u001b[K     |██▌                             | 51kB 2.0MB/s eta 0:00:01\r\u001b[K     |███                             | 61kB 2.3MB/s eta 0:00:01\r\u001b[K     |███▋                            | 71kB 2.5MB/s eta 0:00:01\r\u001b[K     |████                            | 81kB 2.7MB/s eta 0:00:01\r\u001b[K     |████▋                           | 92kB 2.9MB/s eta 0:00:01\r\u001b[K     |█████                           | 102kB 2.8MB/s eta 0:00:01\r\u001b[K     |█████▋                          | 112kB 2.8MB/s eta 0:00:01\r\u001b[K     |██████                          | 122kB 2.8MB/s eta 0:00:01\r\u001b[K     |██████▋                         | 133kB 2.8MB/s eta 0:00:01\r\u001b[K     |███████▏                        | 143kB 2.8MB/s eta 0:00:01\r\u001b[K     |███████▋                        | 153kB 2.8MB/s eta 0:00:01\r\u001b[K     |████████▏                       | 163kB 2.8MB/s eta 0:00:01\r\u001b[K     |████████▋                       | 174kB 2.8MB/s eta 0:00:01\r\u001b[K     |█████████▏                      | 184kB 2.8MB/s eta 0:00:01\r\u001b[K     |█████████▋                      | 194kB 2.8MB/s eta 0:00:01\r\u001b[K     |██████████▏                     | 204kB 2.8MB/s eta 0:00:01\r\u001b[K     |██████████▊                     | 215kB 2.8MB/s eta 0:00:01\r\u001b[K     |███████████▏                    | 225kB 2.8MB/s eta 0:00:01\r\u001b[K     |███████████▊                    | 235kB 2.8MB/s eta 0:00:01\r\u001b[K     |████████████▏                   | 245kB 2.8MB/s eta 0:00:01\r\u001b[K     |████████████▊                   | 256kB 2.8MB/s eta 0:00:01\r\u001b[K     |█████████████▎                  | 266kB 2.8MB/s eta 0:00:01\r\u001b[K     |█████████████▊                  | 276kB 2.8MB/s eta 0:00:01\r\u001b[K     |██████████████▎                 | 286kB 2.8MB/s eta 0:00:01\r\u001b[K     |██████████████▊                 | 296kB 2.8MB/s eta 0:00:01\r\u001b[K     |███████████████▎                | 307kB 2.8MB/s eta 0:00:01\r\u001b[K     |███████████████▊                | 317kB 2.8MB/s eta 0:00:01\r\u001b[K     |████████████████▎               | 327kB 2.8MB/s eta 0:00:01\r\u001b[K     |████████████████▉               | 337kB 2.8MB/s eta 0:00:01\r\u001b[K     |█████████████████▎              | 348kB 2.8MB/s eta 0:00:01\r\u001b[K     |█████████████████▉              | 358kB 2.8MB/s eta 0:00:01\r\u001b[K     |██████████████████▎             | 368kB 2.8MB/s eta 0:00:01\r\u001b[K     |██████████████████▉             | 378kB 2.8MB/s eta 0:00:01\r\u001b[K     |███████████████████▎            | 389kB 2.8MB/s eta 0:00:01\r\u001b[K     |███████████████████▉            | 399kB 2.8MB/s eta 0:00:01\r\u001b[K     |████████████████████▍           | 409kB 2.8MB/s eta 0:00:01\r\u001b[K     |████████████████████▉           | 419kB 2.8MB/s eta 0:00:01\r\u001b[K     |█████████████████████▍          | 430kB 2.8MB/s eta 0:00:01\r\u001b[K     |█████████████████████▉          | 440kB 2.8MB/s eta 0:00:01\r\u001b[K     |██████████████████████▍         | 450kB 2.8MB/s eta 0:00:01\r\u001b[K     |██████████████████████▉         | 460kB 2.8MB/s eta 0:00:01\r\u001b[K     |███████████████████████▍        | 471kB 2.8MB/s eta 0:00:01\r\u001b[K     |████████████████████████        | 481kB 2.8MB/s eta 0:00:01\r\u001b[K     |████████████████████████▍       | 491kB 2.8MB/s eta 0:00:01\r\u001b[K     |█████████████████████████       | 501kB 2.8MB/s eta 0:00:01\r\u001b[K     |█████████████████████████▍      | 512kB 2.8MB/s eta 0:00:01\r\u001b[K     |██████████████████████████      | 522kB 2.8MB/s eta 0:00:01\r\u001b[K     |██████████████████████████▌     | 532kB 2.8MB/s eta 0:00:01\r\u001b[K     |███████████████████████████     | 542kB 2.8MB/s eta 0:00:01\r\u001b[K     |███████████████████████████▌    | 552kB 2.8MB/s eta 0:00:01\r\u001b[K     |████████████████████████████    | 563kB 2.8MB/s eta 0:00:01\r\u001b[K     |████████████████████████████▌   | 573kB 2.8MB/s eta 0:00:01\r\u001b[K     |█████████████████████████████   | 583kB 2.8MB/s eta 0:00:01\r\u001b[K     |█████████████████████████████▌  | 593kB 2.8MB/s eta 0:00:01\r\u001b[K     |██████████████████████████████  | 604kB 2.8MB/s eta 0:00:01\r\u001b[K     |██████████████████████████████▌ | 614kB 2.8MB/s eta 0:00:01\r\u001b[K     |███████████████████████████████ | 624kB 2.8MB/s eta 0:00:01\r\u001b[K     |███████████████████████████████▌| 634kB 2.8MB/s eta 0:00:01\r\u001b[K     |████████████████████████████████| 645kB 2.8MB/s \n",
            "\u001b[?25hBuilding wheels for collected packages: annoy\n",
            "  Building wheel for annoy (setup.py) ... \u001b[?25l\u001b[?25hdone\n",
            "  Created wheel for annoy: filename=annoy-1.16.3-cp36-cp36m-linux_x86_64.whl size=297344 sha256=701697d68b5bc6db802f8204d190df2a04f695916b3dcc4e671b948cea5d9bc3\n",
            "  Stored in directory: /root/.cache/pip/wheels/f3/01/54/6ef760fe9f9fc6ba8c19cebbe6358212b5f3b5b0195c0b813f\n",
            "Successfully built annoy\n",
            "Installing collected packages: annoy\n",
            "Successfully installed annoy-1.16.3\n"
          ],
          "name": "stdout"
        }
      ]
    },
    {
      "cell_type": "code",
      "metadata": {
        "id": "ISk9F44JChYA",
        "colab_type": "code",
        "colab": {}
      },
      "source": [
        "from annoy import AnnoyIndex"
      ],
      "execution_count": 51,
      "outputs": []
    },
    {
      "cell_type": "code",
      "metadata": {
        "id": "X84Ko1y9Dc6h",
        "colab_type": "code",
        "colab": {}
      },
      "source": [
        "dim = 300\n",
        "ann_index = AnnoyIndex(dim, 'angular') "
      ],
      "execution_count": 69,
      "outputs": []
    },
    {
      "cell_type": "code",
      "metadata": {
        "id": "8POxoqtzCrZg",
        "colab_type": "code",
        "colab": {}
      },
      "source": [
        "items = foods + places\n",
        "for i, item in enumerate(items):\n",
        "  ann_index.add_item(i, glove.vectors[glove.stoi[item]])"
      ],
      "execution_count": 70,
      "outputs": []
    },
    {
      "cell_type": "code",
      "metadata": {
        "id": "lbjaOephEBpW",
        "colab_type": "code",
        "colab": {
          "base_uri": "https://localhost:8080/",
          "height": 34
        },
        "outputId": "af391594-56d0-4610-c213-7c8710d22f9c"
      },
      "source": [
        "ann_index.build(10) # build 10 trees"
      ],
      "execution_count": 71,
      "outputs": [
        {
          "output_type": "execute_result",
          "data": {
            "text/plain": [
              "True"
            ]
          },
          "metadata": {
            "tags": []
          },
          "execution_count": 71
        }
      ]
    },
    {
      "cell_type": "code",
      "metadata": {
        "id": "pcRQe7c1EKOz",
        "colab_type": "code",
        "colab": {
          "base_uri": "https://localhost:8080/",
          "height": 34
        },
        "outputId": "1c3a04f1-557f-457a-d491-731490bdd403"
      },
      "source": [
        "ann_index.save('glove_items.ann')"
      ],
      "execution_count": 72,
      "outputs": [
        {
          "output_type": "execute_result",
          "data": {
            "text/plain": [
              "True"
            ]
          },
          "metadata": {
            "tags": []
          },
          "execution_count": 72
        }
      ]
    },
    {
      "cell_type": "code",
      "metadata": {
        "id": "yDhLpJjNIQYx",
        "colab_type": "code",
        "colab": {
          "base_uri": "https://localhost:8080/",
          "height": 527
        },
        "outputId": "fccc6f97-47f5-4c19-f892-a0165beaccd3"
      },
      "source": [
        "items"
      ],
      "execution_count": 73,
      "outputs": [
        {
          "output_type": "execute_result",
          "data": {
            "text/plain": [
              "['chapati',\n",
              " 'chana',\n",
              " 'bhatura',\n",
              " 'chole',\n",
              " 'dal',\n",
              " 'poha',\n",
              " 'idli',\n",
              " 'upma',\n",
              " 'dosa',\n",
              " 'puri',\n",
              " 'paratha',\n",
              " 'jalebi',\n",
              " 'kachori',\n",
              " 'khichdi',\n",
              " 'kofta',\n",
              " 'gurgaon',\n",
              " 'faridabad',\n",
              " 'lucknow',\n",
              " 'noida',\n",
              " 'delhi',\n",
              " 'koramangala',\n",
              " 'bangalore',\n",
              " 'goa',\n",
              " 'panaji',\n",
              " 'coorg',\n",
              " 'ladakh',\n",
              " 'amritsar',\n",
              " 'hyderabad',\n",
              " 'mumbai',\n",
              " 'varanasi']"
            ]
          },
          "metadata": {
            "tags": []
          },
          "execution_count": 73
        }
      ]
    },
    {
      "cell_type": "code",
      "metadata": {
        "id": "tsVWktyUEQxI",
        "colab_type": "code",
        "colab": {
          "base_uri": "https://localhost:8080/",
          "height": 34
        },
        "outputId": "e13757d8-b936-4d9c-8192-8bc91bda4d98"
      },
      "source": [
        "word = 'jalebi'\n",
        "vec = glove.vectors[glove.stoi[word]]\n",
        "ann_index.get_nns_by_vector(vec,3)"
      ],
      "execution_count": 74,
      "outputs": [
        {
          "output_type": "execute_result",
          "data": {
            "text/plain": [
              "[11, 12, 10]"
            ]
          },
          "metadata": {
            "tags": []
          },
          "execution_count": 74
        }
      ]
    },
    {
      "cell_type": "code",
      "metadata": {
        "id": "zbRLYab1FRrg",
        "colab_type": "code",
        "colab": {
          "base_uri": "https://localhost:8080/",
          "height": 35
        },
        "outputId": "6c4f2cd1-eea6-4a15-e189-75041fd15bd1"
      },
      "source": [
        "items[11]"
      ],
      "execution_count": 75,
      "outputs": [
        {
          "output_type": "execute_result",
          "data": {
            "application/vnd.google.colaboratory.intrinsic+json": {
              "type": "string"
            },
            "text/plain": [
              "'jalebi'"
            ]
          },
          "metadata": {
            "tags": []
          },
          "execution_count": 75
        }
      ]
    },
    {
      "cell_type": "code",
      "metadata": {
        "id": "aNMRUmslFum0",
        "colab_type": "code",
        "colab": {
          "base_uri": "https://localhost:8080/",
          "height": 35
        },
        "outputId": "c25f5688-32ea-4712-d6d8-807b466c517a"
      },
      "source": [
        "items[12]"
      ],
      "execution_count": 76,
      "outputs": [
        {
          "output_type": "execute_result",
          "data": {
            "application/vnd.google.colaboratory.intrinsic+json": {
              "type": "string"
            },
            "text/plain": [
              "'kachori'"
            ]
          },
          "metadata": {
            "tags": []
          },
          "execution_count": 76
        }
      ]
    },
    {
      "cell_type": "code",
      "metadata": {
        "id": "oCxzYVs3ImHA",
        "colab_type": "code",
        "colab": {
          "base_uri": "https://localhost:8080/",
          "height": 35
        },
        "outputId": "0bdac58a-7b5c-4127-90b1-78d1bee35286"
      },
      "source": [
        "items[10]"
      ],
      "execution_count": 77,
      "outputs": [
        {
          "output_type": "execute_result",
          "data": {
            "application/vnd.google.colaboratory.intrinsic+json": {
              "type": "string"
            },
            "text/plain": [
              "'paratha'"
            ]
          },
          "metadata": {
            "tags": []
          },
          "execution_count": 77
        }
      ]
    },
    {
      "cell_type": "code",
      "metadata": {
        "id": "XH26zXQeIoy2",
        "colab_type": "code",
        "colab": {}
      },
      "source": [
        ""
      ],
      "execution_count": null,
      "outputs": []
    },
    {
      "cell_type": "markdown",
      "metadata": {
        "id": "Jiy-co2LI4UP",
        "colab_type": "text"
      },
      "source": [
        "# References\n",
        "\n",
        "\n",
        "1.   https://cloud.google.com/solutions/machine-learning/building-real-time-embeddings-similarity-matching-system\n",
        "2.   https://blog.onebar.io/building-a-semantic-search-engine-using-open-source-components-e15af5ed7885\n",
        "\n"
      ]
    }
  ]
}